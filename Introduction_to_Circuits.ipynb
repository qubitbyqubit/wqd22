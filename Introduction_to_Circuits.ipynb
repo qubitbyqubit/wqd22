{
 "cells": [
  {
   "cell_type": "markdown",
   "id": "5d859d8f",
   "metadata": {
    "slideshow": {
     "slide_type": "slide"
    }
   },
   "source": [
    "# Welcome to World Quantum Day!\n",
    "\n",
    "#### A brief introduction to building circuits in python"
   ]
  },
  {
   "cell_type": "markdown",
   "id": "8e671469",
   "metadata": {
    "slideshow": {
     "slide_type": "subslide"
    }
   },
   "source": [
    "## Coding Workshop Outline\n",
    "1. Importing the Libraries\n",
    "    1. What is Qiskit?\n",
    "    2. What is Aer?\n",
    "2. Initializing the `QuantumCircuit` object\n",
    "3. Adding Gates\n",
    "    1. Why do we draw a circuit diagram?\n",
    "    2. Why do we need to apply Measurement gates?\n",
    "5. Using Backends\n",
    "    1. Simulated vs. Quantum Devices\n",
    "7. Interpreting Results\n",
    "    1. Using histograms to understand result distributions"
   ]
  },
  {
   "cell_type": "markdown",
   "id": "399d3b22",
   "metadata": {
    "slideshow": {
     "slide_type": "slide"
    }
   },
   "source": [
    "## Importing the Libraries"
   ]
  },
  {
   "cell_type": "markdown",
   "id": "6f993fb6",
   "metadata": {
    "slideshow": {
     "slide_type": "fragment"
    }
   },
   "source": [
    "Qiskit is a python library that builds the instructions for a quantum device"
   ]
  },
  {
   "cell_type": "code",
   "execution_count": null,
   "id": "f43fb24e",
   "metadata": {
    "slideshow": {
     "slide_type": "fragment"
    }
   },
   "outputs": [],
   "source": [
    "from qiskit import QuantumCircuit, Aer, execute, visualization"
   ]
  },
  {
   "cell_type": "code",
   "execution_count": null,
   "id": "5d0cf4f2",
   "metadata": {
    "slideshow": {
     "slide_type": "skip"
    }
   },
   "outputs": [],
   "source": [
    "%matplotlib inline"
   ]
  },
  {
   "cell_type": "markdown",
   "id": "6133f09f",
   "metadata": {
    "slideshow": {
     "slide_type": "slide"
    }
   },
   "source": [
    "## Creating a `QuanutmCircuit` Object"
   ]
  },
  {
   "cell_type": "code",
   "execution_count": null,
   "id": "0d3ddb7f",
   "metadata": {
    "slideshow": {
     "slide_type": "fragment"
    }
   },
   "outputs": [],
   "source": [
    "your_circuit = QuantumCircuit(1,1)"
   ]
  },
  {
   "cell_type": "markdown",
   "id": "6bf26e3a",
   "metadata": {
    "slideshow": {
     "slide_type": "subslide"
    }
   },
   "source": [
    "## Adding Gates and Drawing"
   ]
  },
  {
   "cell_type": "code",
   "execution_count": null,
   "id": "75b52b64",
   "metadata": {
    "slideshow": {
     "slide_type": "fragment"
    }
   },
   "outputs": [],
   "source": [
    "your_circuit.h(0)\n",
    "your_circuit.draw(\"mpl\")"
   ]
  },
  {
   "cell_type": "markdown",
   "id": "6b596889",
   "metadata": {
    "slideshow": {
     "slide_type": "subslide"
    }
   },
   "source": [
    "## Adding Measurement Gates"
   ]
  },
  {
   "cell_type": "code",
   "execution_count": null,
   "id": "e6285be8",
   "metadata": {
    "hideOutput": true,
    "slideshow": {
     "slide_type": "fragment"
    }
   },
   "outputs": [],
   "source": [
    "your_circuit.measure([0],[0])\n",
    "your_circuit.draw(\"mpl\")"
   ]
  },
  {
   "cell_type": "markdown",
   "id": "b8db0946",
   "metadata": {
    "slideshow": {
     "slide_type": "subslide"
    }
   },
   "source": [
    "## Creating a Simulator Object"
   ]
  },
  {
   "cell_type": "code",
   "execution_count": null,
   "id": "ae972f56",
   "metadata": {
    "slideshow": {
     "slide_type": "fragment"
    }
   },
   "outputs": [],
   "source": [
    "# Select the QasmSimulator from the Aer provider\n",
    "simulator = Aer.get_backend('qasm_simulator')"
   ]
  },
  {
   "cell_type": "markdown",
   "id": "898002c1",
   "metadata": {
    "slideshow": {
     "slide_type": "subslide"
    }
   },
   "source": [
    "## Simulating your Circuit"
   ]
  },
  {
   "cell_type": "code",
   "execution_count": null,
   "id": "a7e0e2fe",
   "metadata": {
    "slideshow": {
     "slide_type": "fragment"
    }
   },
   "outputs": [],
   "source": [
    "job = execute(your_circuit, simulator, shots=1000)\n",
    "result = job.result()"
   ]
  },
  {
   "cell_type": "markdown",
   "id": "2d5050be",
   "metadata": {
    "slideshow": {
     "slide_type": "subslide"
    }
   },
   "source": [
    "## Viewing Raw Results\n",
    "(This is just for reference)"
   ]
  },
  {
   "cell_type": "code",
   "execution_count": null,
   "id": "b93209b6",
   "metadata": {
    "slideshow": {
     "slide_type": "fragment"
    }
   },
   "outputs": [],
   "source": [
    "print(result)"
   ]
  },
  {
   "cell_type": "markdown",
   "id": "92c29a34",
   "metadata": {
    "slideshow": {
     "slide_type": "subslide"
    }
   },
   "source": [
    "## Viewing the Result Histogram"
   ]
  },
  {
   "cell_type": "code",
   "execution_count": null,
   "id": "35e632e0",
   "metadata": {
    "slideshow": {
     "slide_type": "fragment"
    }
   },
   "outputs": [],
   "source": [
    "counts = result.get_counts(your_circuit)\n",
    "visualization.plot_histogram(counts, title='First Circuit Results')"
   ]
  },
  {
   "cell_type": "markdown",
   "id": "0678fa59",
   "metadata": {
    "slideshow": {
     "slide_type": "slide"
    }
   },
   "source": [
    "# Understanding Shots"
   ]
  },
  {
   "cell_type": "code",
   "execution_count": null,
   "id": "821907da",
   "metadata": {
    "slideshow": {
     "slide_type": "subslide"
    }
   },
   "outputs": [],
   "source": [
    "# A Few Shots\n",
    "job = execute(your_circuit, simulator, shots=50)\n",
    "result = job.result()\n",
    "counts = result.get_counts(your_circuit)\n",
    "display(visualization.plot_histogram(counts, title='100 Shots'))"
   ]
  },
  {
   "cell_type": "code",
   "execution_count": null,
   "id": "a12ebba8",
   "metadata": {
    "slideshow": {
     "slide_type": "subslide"
    }
   },
   "outputs": [],
   "source": [
    "# Many Shots\n",
    "job = execute(your_circuit, simulator, shots=10000)\n",
    "result = job.result()\n",
    "counts = result.get_counts(your_circuit)\n",
    "display(visualization.plot_histogram(counts, title='10000 Shots'))"
   ]
  },
  {
   "cell_type": "markdown",
   "id": "5614ec61",
   "metadata": {
    "slideshow": {
     "slide_type": "slide"
    }
   },
   "source": [
    "# We hope you found this interesting!\n",
    "## Happy World Quantum Day! 🙂"
   ]
  }
 ],
 "metadata": {
  "celltoolbar": "Slideshow",
  "kernelspec": {
   "display_name": "Python 3 (ipykernel)",
   "language": "python",
   "name": "python3"
  },
  "language_info": {
   "codemirror_mode": {
    "name": "ipython",
    "version": 3
   },
   "file_extension": ".py",
   "mimetype": "text/x-python",
   "name": "python",
   "nbconvert_exporter": "python",
   "pygments_lexer": "ipython3",
   "version": "3.9.5"
  }
 },
 "nbformat": 4,
 "nbformat_minor": 5
}
