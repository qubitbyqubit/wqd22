{
 "cells": [
  {
   "cell_type": "markdown",
   "id": "cdfa5910",
   "metadata": {
    "slideshow": {
     "slide_type": "slide"
    }
   },
   "source": [
    "# Welcome to World Quantum Day"
   ]
  },
  {
   "cell_type": "markdown",
   "id": "ab2c213e",
   "metadata": {
    "slideshow": {
     "slide_type": "subslide"
    }
   },
   "source": [
    "## The Plan\n",
    "1. Import Libraries\n",
    "2. Initialize the `QuantumCircuit` object\n",
    "3. Add Gates\n",
    "4. Draw a circuit diagram\n",
    "5. Measurement\n",
    "6. Backends\n",
    "7. Simualtion\n",
    "8. Result interpretation"
   ]
  },
  {
   "cell_type": "code",
   "execution_count": null,
   "id": "eb6188e7",
   "metadata": {
    "slideshow": {
     "slide_type": "slide"
    }
   },
   "outputs": [],
   "source": [
    "from qiskit import QuantumCircuit, Aer, execute, visualization"
   ]
  },
  {
   "cell_type": "code",
   "execution_count": null,
   "id": "1242165b",
   "metadata": {
    "slideshow": {
     "slide_type": "fragment"
    }
   },
   "outputs": [],
   "source": [
    "your_circuit = QuantumCircuit(1,1)"
   ]
  },
  {
   "cell_type": "code",
   "execution_count": null,
   "id": "9bc0002e",
   "metadata": {
    "slideshow": {
     "slide_type": "fragment"
    }
   },
   "outputs": [],
   "source": [
    "your_circuit.h(0)"
   ]
  },
  {
   "cell_type": "code",
   "execution_count": null,
   "id": "4873c34b",
   "metadata": {
    "slideshow": {
     "slide_type": "subslide"
    }
   },
   "outputs": [],
   "source": [
    "your_circuit.draw(\"mpl\")"
   ]
  },
  {
   "cell_type": "code",
   "execution_count": null,
   "id": "f5e356de",
   "metadata": {
    "hideOutput": true,
    "slideshow": {
     "slide_type": "subslide"
    }
   },
   "outputs": [],
   "source": [
    "your_circuit.measure([0],[0])"
   ]
  },
  {
   "cell_type": "code",
   "execution_count": null,
   "id": "7acff5a8",
   "metadata": {
    "slideshow": {
     "slide_type": "subslide"
    }
   },
   "outputs": [],
   "source": [
    "your_circuit.draw(\"mpl\")"
   ]
  },
  {
   "cell_type": "code",
   "execution_count": null,
   "id": "4f7218cb",
   "metadata": {
    "slideshow": {
     "slide_type": "subslide"
    }
   },
   "outputs": [],
   "source": [
    "# Select the QasmSimulator from the Aer provider\n",
    "simulator = Aer.get_backend('qasm_simulator')"
   ]
  },
  {
   "cell_type": "code",
   "execution_count": null,
   "id": "31046449",
   "metadata": {
    "slideshow": {
     "slide_type": "subslide"
    }
   },
   "outputs": [],
   "source": [
    "# Execute and get counts\n",
    "result = execute(your_circuit, simulator, shots=1000).result()\n",
    "counts = result.get_counts(your_circuit)\n",
    "visualization.plot_histogram(counts, title='First Circuit Results')"
   ]
  }
 ],
 "metadata": {
  "celltoolbar": "Slideshow",
  "kernelspec": {
   "display_name": "Python 3 (ipykernel)",
   "language": "python",
   "name": "python3"
  },
  "language_info": {
   "codemirror_mode": {
    "name": "ipython",
    "version": 3
   },
   "file_extension": ".py",
   "mimetype": "text/x-python",
   "name": "python",
   "nbconvert_exporter": "python",
   "pygments_lexer": "ipython3",
   "version": "3.9.7"
  }
 },
 "nbformat": 4,
 "nbformat_minor": 5
}
